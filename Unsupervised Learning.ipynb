{
 "cells": [
  {
   "cell_type": "markdown",
   "metadata": {},
   "source": [
    "# Iris Flower Classification using Unsupervised Learning"
   ]
  },
  {
   "cell_type": "code",
   "execution_count": 120,
   "metadata": {},
   "outputs": [
    {
     "data": {
      "text/html": [
       "<div>\n",
       "<style scoped>\n",
       "    .dataframe tbody tr th:only-of-type {\n",
       "        vertical-align: middle;\n",
       "    }\n",
       "\n",
       "    .dataframe tbody tr th {\n",
       "        vertical-align: top;\n",
       "    }\n",
       "\n",
       "    .dataframe thead th {\n",
       "        text-align: right;\n",
       "    }\n",
       "</style>\n",
       "<table border=\"1\" class=\"dataframe\">\n",
       "  <thead>\n",
       "    <tr style=\"text-align: right;\">\n",
       "      <th></th>\n",
       "      <th>Id</th>\n",
       "      <th>SepalLengthCm</th>\n",
       "      <th>SepalWidthCm</th>\n",
       "      <th>PetalLengthCm</th>\n",
       "      <th>PetalWidthCm</th>\n",
       "      <th>Species</th>\n",
       "    </tr>\n",
       "  </thead>\n",
       "  <tbody>\n",
       "    <tr>\n",
       "      <th>0</th>\n",
       "      <td>1</td>\n",
       "      <td>5.1</td>\n",
       "      <td>3.5</td>\n",
       "      <td>1.4</td>\n",
       "      <td>0.2</td>\n",
       "      <td>Iris-setosa</td>\n",
       "    </tr>\n",
       "    <tr>\n",
       "      <th>1</th>\n",
       "      <td>2</td>\n",
       "      <td>4.9</td>\n",
       "      <td>3.0</td>\n",
       "      <td>1.4</td>\n",
       "      <td>0.2</td>\n",
       "      <td>Iris-setosa</td>\n",
       "    </tr>\n",
       "    <tr>\n",
       "      <th>2</th>\n",
       "      <td>3</td>\n",
       "      <td>4.7</td>\n",
       "      <td>3.2</td>\n",
       "      <td>1.3</td>\n",
       "      <td>0.2</td>\n",
       "      <td>Iris-setosa</td>\n",
       "    </tr>\n",
       "    <tr>\n",
       "      <th>3</th>\n",
       "      <td>4</td>\n",
       "      <td>4.6</td>\n",
       "      <td>3.1</td>\n",
       "      <td>1.5</td>\n",
       "      <td>0.2</td>\n",
       "      <td>Iris-setosa</td>\n",
       "    </tr>\n",
       "    <tr>\n",
       "      <th>4</th>\n",
       "      <td>5</td>\n",
       "      <td>5.0</td>\n",
       "      <td>3.6</td>\n",
       "      <td>1.4</td>\n",
       "      <td>0.2</td>\n",
       "      <td>Iris-setosa</td>\n",
       "    </tr>\n",
       "    <tr>\n",
       "      <th>...</th>\n",
       "      <td>...</td>\n",
       "      <td>...</td>\n",
       "      <td>...</td>\n",
       "      <td>...</td>\n",
       "      <td>...</td>\n",
       "      <td>...</td>\n",
       "    </tr>\n",
       "    <tr>\n",
       "      <th>145</th>\n",
       "      <td>146</td>\n",
       "      <td>6.7</td>\n",
       "      <td>3.0</td>\n",
       "      <td>5.2</td>\n",
       "      <td>2.3</td>\n",
       "      <td>Iris-virginica</td>\n",
       "    </tr>\n",
       "    <tr>\n",
       "      <th>146</th>\n",
       "      <td>147</td>\n",
       "      <td>6.3</td>\n",
       "      <td>2.5</td>\n",
       "      <td>5.0</td>\n",
       "      <td>1.9</td>\n",
       "      <td>Iris-virginica</td>\n",
       "    </tr>\n",
       "    <tr>\n",
       "      <th>147</th>\n",
       "      <td>148</td>\n",
       "      <td>6.5</td>\n",
       "      <td>3.0</td>\n",
       "      <td>5.2</td>\n",
       "      <td>2.0</td>\n",
       "      <td>Iris-virginica</td>\n",
       "    </tr>\n",
       "    <tr>\n",
       "      <th>148</th>\n",
       "      <td>149</td>\n",
       "      <td>6.2</td>\n",
       "      <td>3.4</td>\n",
       "      <td>5.4</td>\n",
       "      <td>2.3</td>\n",
       "      <td>Iris-virginica</td>\n",
       "    </tr>\n",
       "    <tr>\n",
       "      <th>149</th>\n",
       "      <td>150</td>\n",
       "      <td>5.9</td>\n",
       "      <td>3.0</td>\n",
       "      <td>5.1</td>\n",
       "      <td>1.8</td>\n",
       "      <td>Iris-virginica</td>\n",
       "    </tr>\n",
       "  </tbody>\n",
       "</table>\n",
       "<p>150 rows × 6 columns</p>\n",
       "</div>"
      ],
      "text/plain": [
       "      Id  SepalLengthCm  SepalWidthCm  PetalLengthCm  PetalWidthCm  \\\n",
       "0      1            5.1           3.5            1.4           0.2   \n",
       "1      2            4.9           3.0            1.4           0.2   \n",
       "2      3            4.7           3.2            1.3           0.2   \n",
       "3      4            4.6           3.1            1.5           0.2   \n",
       "4      5            5.0           3.6            1.4           0.2   \n",
       "..   ...            ...           ...            ...           ...   \n",
       "145  146            6.7           3.0            5.2           2.3   \n",
       "146  147            6.3           2.5            5.0           1.9   \n",
       "147  148            6.5           3.0            5.2           2.0   \n",
       "148  149            6.2           3.4            5.4           2.3   \n",
       "149  150            5.9           3.0            5.1           1.8   \n",
       "\n",
       "            Species  \n",
       "0       Iris-setosa  \n",
       "1       Iris-setosa  \n",
       "2       Iris-setosa  \n",
       "3       Iris-setosa  \n",
       "4       Iris-setosa  \n",
       "..              ...  \n",
       "145  Iris-virginica  \n",
       "146  Iris-virginica  \n",
       "147  Iris-virginica  \n",
       "148  Iris-virginica  \n",
       "149  Iris-virginica  \n",
       "\n",
       "[150 rows x 6 columns]"
      ]
     },
     "execution_count": 120,
     "metadata": {},
     "output_type": "execute_result"
    }
   ],
   "source": [
    "#Load the data\n",
    "import pandas as pd\n",
    "import numpy as np\n",
    "import matplotlib.pyplot as plt\n",
    "\n",
    "iris = pd.read_csv(\"C:/random/iris.csv\")\n",
    "iris\n"
   ]
  },
  {
   "cell_type": "markdown",
   "metadata": {},
   "source": [
    "# K-Means Clustering"
   ]
  },
  {
   "cell_type": "code",
   "execution_count": 121,
   "metadata": {},
   "outputs": [
    {
     "name": "stdout",
     "output_type": "stream",
     "text": [
      "[2 2 2 2 2 2 2 2 2 2 2 2 2 2 2 2 2 2 2 2 2 2 2 2 2 2 2 2 2 2 2 2 2 2 2 2 2\n",
      " 2 2 2 2 2 2 2 2 2 2 2 2 0 0 0 0 0 0 0 0 0 0 0 0 0 0 0 0 0 0 0 0 0 0 0 0 0\n",
      " 0 0 0 0 0 0 0 0 0 0 0 0 0 0 0 0 0 0 0 0 0 0 0 0 0 1 1 1 1 1 1 1 1 1 1 1 1\n",
      " 1 1 1 1 1 1 1 1 1 1 1 1 1 1 1 1 1 1 1 1 1 1 1 1 1 1 1 1 1 1 1 1 1 1 1 1 1\n",
      " 1 1]\n"
     ]
    },
    {
     "data": {
      "text/plain": [
       "array([[ 74.5       ,   5.922     ,   2.78      ,   4.206     ],\n",
       "       [125.        ,   6.57058824,   2.97058824,   5.52352941],\n",
       "       [ 25.        ,   5.00612245,   3.42040816,   1.46530612]])"
      ]
     },
     "execution_count": 121,
     "metadata": {},
     "output_type": "execute_result"
    }
   ],
   "source": [
    "from sklearn.cluster import KMeans\n",
    "\n",
    "# K_means clustering with k=3\n",
    "x = iris.iloc[:, [0,1,2,3]].values\n",
    "km = KMeans(n_clusters=3)\n",
    "y_means = km.fit_predict(x)\n",
    "print(y_means)\n",
    "\n",
    "km.cluster_centers_"
   ]
  },
  {
   "cell_type": "code",
   "execution_count": 122,
   "metadata": {},
   "outputs": [
    {
     "data": {
      "image/png": "[encoded data removed]",
      "text/plain": [
       "<Figure size 432x288 with 1 Axes>"
      ]
     },
     "metadata": {
      "needs_background": "light"
     },
     "output_type": "display_data"
    }
   ],
   "source": [
    "# Elbow method\n",
    "\n",
    "Error = []\n",
    "for i in range(1,11):\n",
    "    kmeans = KMeans(n_clusters = i).fit(x)\n",
    "    kmeans.fit(x)\n",
    "    Error.append(kmeans.inertia_)\n",
    "plt.plot(range(1, 11), Error)\n",
    "plt.title('Elbow Method')\n",
    "plt.xlabel('Number of Clusters')\n",
    "plt.ylabel('Error')\n",
    "plt.show()\n"
   ]
  },
  {
   "cell_type": "code",
   "execution_count": 123,
   "metadata": {},
   "outputs": [
    {
     "data": {
      "text/plain": [
       "<matplotlib.collections.PathCollection at 0x23415e75788>"
      ]
     },
     "execution_count": 123,
     "metadata": {},
     "output_type": "execute_result"
    },
    {
     "data": {
      "image/png": "[encoded data removed]",
      "text/plain": [
       "<Figure size 432x288 with 1 Axes>"
      ]
     },
     "metadata": {
      "needs_background": "light"
     },
     "output_type": "display_data"
    }
   ],
   "source": [
    "# Visualizing clustering\n",
    "plt.scatter(x[:, 0] , x[:, 1] , c=y_means , cmap='rainbow')"
   ]
  },
  {
   "cell_type": "markdown",
   "metadata": {},
   "source": [
    "# Hierarchical Clustering"
   ]
  },
  {
   "cell_type": "code",
   "execution_count": 124,
   "metadata": {},
   "outputs": [
    {
     "data": {
      "text/html": [
       "<div>\n",
       "<style scoped>\n",
       "    .dataframe tbody tr th:only-of-type {\n",
       "        vertical-align: middle;\n",
       "    }\n",
       "\n",
       "    .dataframe tbody tr th {\n",
       "        vertical-align: top;\n",
       "    }\n",
       "\n",
       "    .dataframe thead th {\n",
       "        text-align: right;\n",
       "    }\n",
       "</style>\n",
       "<table border=\"1\" class=\"dataframe\">\n",
       "  <thead>\n",
       "    <tr style=\"text-align: right;\">\n",
       "      <th></th>\n",
       "      <th>SepalLengthCm</th>\n",
       "      <th>SepalWidthCm</th>\n",
       "      <th>PetalLengthCm</th>\n",
       "      <th>PetalWidthCm</th>\n",
       "    </tr>\n",
       "  </thead>\n",
       "  <tbody>\n",
       "    <tr>\n",
       "      <th>0</th>\n",
       "      <td>5.1</td>\n",
       "      <td>3.5</td>\n",
       "      <td>1.4</td>\n",
       "      <td>0.2</td>\n",
       "    </tr>\n",
       "    <tr>\n",
       "      <th>1</th>\n",
       "      <td>4.9</td>\n",
       "      <td>3.0</td>\n",
       "      <td>1.4</td>\n",
       "      <td>0.2</td>\n",
       "    </tr>\n",
       "    <tr>\n",
       "      <th>2</th>\n",
       "      <td>4.7</td>\n",
       "      <td>3.2</td>\n",
       "      <td>1.3</td>\n",
       "      <td>0.2</td>\n",
       "    </tr>\n",
       "    <tr>\n",
       "      <th>3</th>\n",
       "      <td>4.6</td>\n",
       "      <td>3.1</td>\n",
       "      <td>1.5</td>\n",
       "      <td>0.2</td>\n",
       "    </tr>\n",
       "    <tr>\n",
       "      <th>4</th>\n",
       "      <td>5.0</td>\n",
       "      <td>3.6</td>\n",
       "      <td>1.4</td>\n",
       "      <td>0.2</td>\n",
       "    </tr>\n",
       "    <tr>\n",
       "      <th>...</th>\n",
       "      <td>...</td>\n",
       "      <td>...</td>\n",
       "      <td>...</td>\n",
       "      <td>...</td>\n",
       "    </tr>\n",
       "    <tr>\n",
       "      <th>145</th>\n",
       "      <td>6.7</td>\n",
       "      <td>3.0</td>\n",
       "      <td>5.2</td>\n",
       "      <td>2.3</td>\n",
       "    </tr>\n",
       "    <tr>\n",
       "      <th>146</th>\n",
       "      <td>6.3</td>\n",
       "      <td>2.5</td>\n",
       "      <td>5.0</td>\n",
       "      <td>1.9</td>\n",
       "    </tr>\n",
       "    <tr>\n",
       "      <th>147</th>\n",
       "      <td>6.5</td>\n",
       "      <td>3.0</td>\n",
       "      <td>5.2</td>\n",
       "      <td>2.0</td>\n",
       "    </tr>\n",
       "    <tr>\n",
       "      <th>148</th>\n",
       "      <td>6.2</td>\n",
       "      <td>3.4</td>\n",
       "      <td>5.4</td>\n",
       "      <td>2.3</td>\n",
       "    </tr>\n",
       "    <tr>\n",
       "      <th>149</th>\n",
       "      <td>5.9</td>\n",
       "      <td>3.0</td>\n",
       "      <td>5.1</td>\n",
       "      <td>1.8</td>\n",
       "    </tr>\n",
       "  </tbody>\n",
       "</table>\n",
       "<p>150 rows × 4 columns</p>\n",
       "</div>"
      ],
      "text/plain": [
       "     SepalLengthCm  SepalWidthCm  PetalLengthCm  PetalWidthCm\n",
       "0              5.1           3.5            1.4           0.2\n",
       "1              4.9           3.0            1.4           0.2\n",
       "2              4.7           3.2            1.3           0.2\n",
       "3              4.6           3.1            1.5           0.2\n",
       "4              5.0           3.6            1.4           0.2\n",
       "..             ...           ...            ...           ...\n",
       "145            6.7           3.0            5.2           2.3\n",
       "146            6.3           2.5            5.0           1.9\n",
       "147            6.5           3.0            5.2           2.0\n",
       "148            6.2           3.4            5.4           2.3\n",
       "149            5.9           3.0            5.1           1.8\n",
       "\n",
       "[150 rows x 4 columns]"
      ]
     },
     "execution_count": 124,
     "metadata": {},
     "output_type": "execute_result"
    }
   ],
   "source": [
    "#Importing modules\n",
    "%matplotlib inline\n",
    "# drop Id column\n",
    "iris = iris.drop('Id',axis=1)\n",
    "\n",
    "#Reading the dataframe\n",
    "iris_d = iris[['SepalLengthCm' , 'SepalWidthCm' , 'PetalLengthCm' , 'PetalWidthCm']]\n",
    "iris_d.head(150)"
   ]
  },
  {
   "cell_type": "code",
   "execution_count": 125,
   "metadata": {},
   "outputs": [
    {
     "data": {
      "image/png": "[encoded data removed]",
      "text/plain": [
       "<Figure size 720x504 with 1 Axes>"
      ]
     },
     "metadata": {
      "needs_background": "light"
     },
     "output_type": "display_data"
    }
   ],
   "source": [
    "#Dendrogram plotting\n",
    "import scipy.cluster.hierarchy as shc\n",
    "plt.figure(figsize=(10, 7))\n",
    "plt.title(\"Iris Dendrogram\")\n",
    "dend = shc.dendrogram(shc.linkage(iris_d , method='ward'))\n"
   ]
  },
  {
   "cell_type": "code",
   "execution_count": 126,
   "metadata": {},
   "outputs": [
    {
     "data": {
      "text/plain": [
       "<matplotlib.collections.PathCollection at 0x23417455808>"
      ]
     },
     "execution_count": 126,
     "metadata": {},
     "output_type": "execute_result"
    },
    {
     "data": {
      "image/png": "[encoded data removed]",
      "text/plain": [
       "<Figure size 720x504 with 1 Axes>"
      ]
     },
     "metadata": {
      "needs_background": "light"
     },
     "output_type": "display_data"
    }
   ],
   "source": [
    "#Divide the data into three clusters\n",
    "from sklearn.cluster import AgglomerativeClustering\n",
    "cluster = AgglomerativeClustering(n_clusters=3, affinity='euclidean', linkage='ward')\n",
    "cluster.fit_predict(iris_d)\n",
    "plt.figure(figsize=(10,7))\n",
    "plt.scatter(iris_d['PetalLengthCm'] , iris_d['PetalWidthCm'] , c=cluster.labels_ , cmap='rainbow')"
   ]
  },
  {
   "cell_type": "markdown",
   "metadata": {},
   "source": [
    "# Principal Component Analysis (PCA)"
   ]
  },
  {
   "cell_type": "code",
   "execution_count": 127,
   "metadata": {
    "scrolled": true
   },
   "outputs": [
    {
     "data": {
      "text/html": [
       "<div>\n",
       "<style scoped>\n",
       "    .dataframe tbody tr th:only-of-type {\n",
       "        vertical-align: middle;\n",
       "    }\n",
       "\n",
       "    .dataframe tbody tr th {\n",
       "        vertical-align: top;\n",
       "    }\n",
       "\n",
       "    .dataframe thead th {\n",
       "        text-align: right;\n",
       "    }\n",
       "</style>\n",
       "<table border=\"1\" class=\"dataframe\">\n",
       "  <thead>\n",
       "    <tr style=\"text-align: right;\">\n",
       "      <th></th>\n",
       "      <th>SepalLengthCm</th>\n",
       "      <th>SepalWidthCm</th>\n",
       "      <th>PetalLengthCm</th>\n",
       "      <th>PetalWidthCm</th>\n",
       "    </tr>\n",
       "  </thead>\n",
       "  <tbody>\n",
       "    <tr>\n",
       "      <th>0</th>\n",
       "      <td>-0.900681</td>\n",
       "      <td>1.032057</td>\n",
       "      <td>-1.341272</td>\n",
       "      <td>-1.312977</td>\n",
       "    </tr>\n",
       "    <tr>\n",
       "      <th>1</th>\n",
       "      <td>-1.143017</td>\n",
       "      <td>-0.124958</td>\n",
       "      <td>-1.341272</td>\n",
       "      <td>-1.312977</td>\n",
       "    </tr>\n",
       "    <tr>\n",
       "      <th>2</th>\n",
       "      <td>-1.385353</td>\n",
       "      <td>0.337848</td>\n",
       "      <td>-1.398138</td>\n",
       "      <td>-1.312977</td>\n",
       "    </tr>\n",
       "    <tr>\n",
       "      <th>3</th>\n",
       "      <td>-1.506521</td>\n",
       "      <td>0.106445</td>\n",
       "      <td>-1.284407</td>\n",
       "      <td>-1.312977</td>\n",
       "    </tr>\n",
       "    <tr>\n",
       "      <th>4</th>\n",
       "      <td>-1.021849</td>\n",
       "      <td>1.263460</td>\n",
       "      <td>-1.341272</td>\n",
       "      <td>-1.312977</td>\n",
       "    </tr>\n",
       "  </tbody>\n",
       "</table>\n",
       "</div>"
      ],
      "text/plain": [
       "   SepalLengthCm  SepalWidthCm  PetalLengthCm  PetalWidthCm\n",
       "0      -0.900681      1.032057      -1.341272     -1.312977\n",
       "1      -1.143017     -0.124958      -1.341272     -1.312977\n",
       "2      -1.385353      0.337848      -1.398138     -1.312977\n",
       "3      -1.506521      0.106445      -1.284407     -1.312977\n",
       "4      -1.021849      1.263460      -1.341272     -1.312977"
      ]
     },
     "execution_count": 127,
     "metadata": {},
     "output_type": "execute_result"
    }
   ],
   "source": [
    "from sklearn.preprocessing import StandardScaler\n",
    "features = ['SepalLengthCm' , 'SepalWidthCm' , 'PetalLengthCm' , 'PetalWidthCm']\n",
    "\n",
    "#separating out the features\n",
    "x = iris.loc[: , features].values\n",
    "\n",
    "#separating out the target\n",
    "y = iris.loc[: , ['Species']].values\n",
    "\n",
    "#standardizing the features\n",
    "x = StandardScaler().fit_transform(x)\n",
    "\n",
    "pd.DataFrame(data = x, columns = features).head()\n"
   ]
  },
  {
   "cell_type": "code",
   "execution_count": 128,
   "metadata": {},
   "outputs": [
    {
     "data": {
      "text/html": [
       "<div>\n",
       "<style scoped>\n",
       "    .dataframe tbody tr th:only-of-type {\n",
       "        vertical-align: middle;\n",
       "    }\n",
       "\n",
       "    .dataframe tbody tr th {\n",
       "        vertical-align: top;\n",
       "    }\n",
       "\n",
       "    .dataframe thead th {\n",
       "        text-align: right;\n",
       "    }\n",
       "</style>\n",
       "<table border=\"1\" class=\"dataframe\">\n",
       "  <thead>\n",
       "    <tr style=\"text-align: right;\">\n",
       "      <th></th>\n",
       "      <th>principal component 1</th>\n",
       "      <th>principal component 2</th>\n",
       "    </tr>\n",
       "  </thead>\n",
       "  <tbody>\n",
       "    <tr>\n",
       "      <th>0</th>\n",
       "      <td>-2.264542</td>\n",
       "      <td>0.505704</td>\n",
       "    </tr>\n",
       "    <tr>\n",
       "      <th>1</th>\n",
       "      <td>-2.086426</td>\n",
       "      <td>-0.655405</td>\n",
       "    </tr>\n",
       "    <tr>\n",
       "      <th>2</th>\n",
       "      <td>-2.367950</td>\n",
       "      <td>-0.318477</td>\n",
       "    </tr>\n",
       "    <tr>\n",
       "      <th>3</th>\n",
       "      <td>-2.304197</td>\n",
       "      <td>-0.575368</td>\n",
       "    </tr>\n",
       "    <tr>\n",
       "      <th>4</th>\n",
       "      <td>-2.388777</td>\n",
       "      <td>0.674767</td>\n",
       "    </tr>\n",
       "  </tbody>\n",
       "</table>\n",
       "</div>"
      ],
      "text/plain": [
       "   principal component 1  principal component 2\n",
       "0              -2.264542               0.505704\n",
       "1              -2.086426              -0.655405\n",
       "2              -2.367950              -0.318477\n",
       "3              -2.304197              -0.575368\n",
       "4              -2.388777               0.674767"
      ]
     },
     "execution_count": 128,
     "metadata": {},
     "output_type": "execute_result"
    }
   ],
   "source": [
    "from sklearn.decomposition import PCA\n",
    "\n",
    "pca = PCA(n_components = 2)\n",
    "principalComponents = pca.fit_transform(x)\n",
    "\n",
    "principalData = pd.DataFrame(data = principalComponents , columns = \n",
    "                            ['principal component 1' , 'principal component 2'])\n",
    "principalData.head(5)\n"
   ]
  },
  {
   "cell_type": "code",
   "execution_count": 129,
   "metadata": {},
   "outputs": [
    {
     "data": {
      "text/html": [
       "<div>\n",
       "<style scoped>\n",
       "    .dataframe tbody tr th:only-of-type {\n",
       "        vertical-align: middle;\n",
       "    }\n",
       "\n",
       "    .dataframe tbody tr th {\n",
       "        vertical-align: top;\n",
       "    }\n",
       "\n",
       "    .dataframe thead th {\n",
       "        text-align: right;\n",
       "    }\n",
       "</style>\n",
       "<table border=\"1\" class=\"dataframe\">\n",
       "  <thead>\n",
       "    <tr style=\"text-align: right;\">\n",
       "      <th></th>\n",
       "      <th>principal component 1</th>\n",
       "      <th>principal component 2</th>\n",
       "      <th>Species</th>\n",
       "    </tr>\n",
       "  </thead>\n",
       "  <tbody>\n",
       "    <tr>\n",
       "      <th>0</th>\n",
       "      <td>-2.264542</td>\n",
       "      <td>0.505704</td>\n",
       "      <td>Iris-setosa</td>\n",
       "    </tr>\n",
       "    <tr>\n",
       "      <th>1</th>\n",
       "      <td>-2.086426</td>\n",
       "      <td>-0.655405</td>\n",
       "      <td>Iris-setosa</td>\n",
       "    </tr>\n",
       "    <tr>\n",
       "      <th>2</th>\n",
       "      <td>-2.367950</td>\n",
       "      <td>-0.318477</td>\n",
       "      <td>Iris-setosa</td>\n",
       "    </tr>\n",
       "    <tr>\n",
       "      <th>3</th>\n",
       "      <td>-2.304197</td>\n",
       "      <td>-0.575368</td>\n",
       "      <td>Iris-setosa</td>\n",
       "    </tr>\n",
       "    <tr>\n",
       "      <th>4</th>\n",
       "      <td>-2.388777</td>\n",
       "      <td>0.674767</td>\n",
       "      <td>Iris-setosa</td>\n",
       "    </tr>\n",
       "  </tbody>\n",
       "</table>\n",
       "</div>"
      ],
      "text/plain": [
       "   principal component 1  principal component 2      Species\n",
       "0              -2.264542               0.505704  Iris-setosa\n",
       "1              -2.086426              -0.655405  Iris-setosa\n",
       "2              -2.367950              -0.318477  Iris-setosa\n",
       "3              -2.304197              -0.575368  Iris-setosa\n",
       "4              -2.388777               0.674767  Iris-setosa"
      ]
     },
     "execution_count": 129,
     "metadata": {},
     "output_type": "execute_result"
    }
   ],
   "source": [
    "iris[['Species']].head()\n",
    "\n",
    "finalData = pd.concat([principalData , iris[['Species']]] , axis=1)\n",
    "finalData.head(5)"
   ]
  },
  {
   "cell_type": "code",
   "execution_count": 130,
   "metadata": {},
   "outputs": [
    {
     "data": {
      "image/png": "[encoded data removed]",
      "text/plain": [
       "<Figure size 576x576 with 1 Axes>"
      ]
     },
     "metadata": {
      "needs_background": "light"
     },
     "output_type": "display_data"
    }
   ],
   "source": [
    "#visualize 2D projection\n",
    "fig = plt.figure(figsize = (8,8))\n",
    "ax = fig.add_subplot(1,1,1)\n",
    "ax.set_xlabel('Principal Component 1' , fontsize = 15)\n",
    "ax.set_ylabel('Principal Component 2' , fontsize = 15)\n",
    "ax.set_title('2 component PCA' , fontsize = 20)\n",
    "\n",
    "targets = ['Iris-setosa' , 'Iris-versicolor' , 'Iris-virginica']\n",
    "colors = ['r','g','b']\n",
    "for target, color in zip(targets,colors):\n",
    "    indicesToKeep = finalData['Species'] == target\n",
    "    ax.scatter(finalData.loc[indicesToKeep, 'principal component 1'] , \n",
    "               finalData.loc[indicesToKeep, 'principal component 2'] , \n",
    "               c = color, s = 50)\n",
    "ax.legend(targets)\n",
    "ax.grid()"
   ]
  },
  {
   "cell_type": "markdown",
   "metadata": {},
   "source": [
    "#  Single Value Decomposition"
   ]
  },
  {
   "cell_type": "code",
   "execution_count": 131,
   "metadata": {},
   "outputs": [
    {
     "name": "stdout",
     "output_type": "stream",
     "text": [
      "[95.95991387 17.76103366]\n"
     ]
    }
   ],
   "source": [
    "from sklearn.decomposition import TruncatedSVD\n",
    "from sklearn.datasets import load_iris\n",
    "\n",
    "iris_ds = load_iris()\n",
    "\n",
    "svd = TruncatedSVD(n_components=2 , n_iter=7 , random_state = 42)\n",
    "svd.fit(iris_ds.data)\n",
    "print(svd.singular_values_)"
   ]
  },
  {
   "cell_type": "code",
   "execution_count": 132,
   "metadata": {},
   "outputs": [
    {
     "data": {
      "image/png": "[encoded data removed]",
      "text/plain": [
       "<Figure size 432x288 with 1 Axes>"
      ]
     },
     "metadata": {
      "needs_background": "light"
     },
     "output_type": "display_data"
    }
   ],
   "source": [
    "# Getting the U matrix\n",
    "\n",
    "u = svd.fit_transform(iris_ds.data)\n",
    "d = svd.singular_values_\n",
    "vt = svd.components_\n",
    "iris_ds.target_names\n",
    "\n",
    "x1 = u[:,0]\n",
    "x2 = u[:,1]\n",
    "cdict = {iris_ds.target_names[0]:\"red\" , iris_ds.target_names[1]:\"green\" , iris_ds.target_names[2]:\"blue\"}\n",
    "\n",
    "plt.figure()\n",
    "for i in range(0,x1.shape[0]):\n",
    "    color_index = iris_ds.target_names[iris_ds.target[i]]\n",
    "    plt.scatter(x1[i] , x2[i] , c=cdict[color_index])\n",
    "    \n",
    "plt.show()"
   ]
  },
  {
   "cell_type": "code",
   "execution_count": 134,
   "metadata": {},
   "outputs": [
    {
     "name": "stdout",
     "output_type": "stream",
     "text": [
      "[[ 6.16168450e-02  1.29611444e-01]\n",
      " [ 5.80709402e-02  1.11019776e-01]\n",
      " [ 5.67630474e-02  1.17966465e-01]\n",
      " [ 5.66534426e-02  1.05308145e-01]\n",
      " [ 6.12302023e-02  1.31089790e-01]\n",
      " [ 6.75031684e-02  1.30884835e-01]\n",
      " [ 5.74820774e-02  1.16598182e-01]\n",
      " [ 6.09726328e-02  1.20943120e-01]\n",
      " [ 5.37611959e-02  9.99414853e-02]\n",
      " [ 5.88266594e-02  1.12043088e-01]\n",
      " [ 6.52918230e-02  1.36578094e-01]\n",
      " [ 5.99417779e-02  1.13753142e-01]\n",
      " [ 5.71132323e-02  1.11354756e-01]\n",
      " [ 5.15957540e-02  1.15324791e-01]\n",
      " [ 6.80071908e-02  1.64183057e-01]\n",
      " [ 7.07625894e-02  1.59056485e-01]\n",
      " [ 6.53647385e-02  1.46844820e-01]\n",
      " [ 6.17918218e-02  1.27676473e-01]\n",
      " [ 6.92802967e-02  1.34541441e-01]\n",
      " [ 6.35146947e-02  1.32921488e-01]\n",
      " [ 6.51727724e-02  1.19363091e-01]\n",
      " [ 6.32935829e-02  1.27908181e-01]\n",
      " [ 5.59608478e-02  1.40649812e-01]\n",
      " [ 6.29534207e-02  1.05679869e-01]\n",
      " [ 6.15456003e-02  1.01783154e-01]\n",
      " [ 5.99228863e-02  1.04639775e-01]\n",
      " [ 6.18571938e-02  1.13083182e-01]\n",
      " [ 6.29341837e-02  1.27221439e-01]\n",
      " [ 6.20034877e-02  1.28133097e-01]\n",
      " [ 5.83668698e-02  1.05996477e-01]\n",
      " [ 5.87535125e-02  1.04518131e-01]\n",
      " [ 6.44535110e-02  1.23473141e-01]\n",
      " [ 6.51357378e-02  1.47626432e-01]\n",
      " [ 6.75203891e-02  1.57559767e-01]\n",
      " [ 5.90016362e-02  1.10108117e-01]\n",
      " [ 5.85766335e-02  1.26756434e-01]\n",
      " [ 6.42131623e-02  1.40001403e-01]\n",
      " [ 6.02724944e-02  1.31424770e-01]\n",
      " [ 5.36226769e-02  1.07009819e-01]\n",
      " [ 6.17553640e-02  1.22543111e-01]\n",
      " [ 6.04744831e-02  1.30066478e-01]\n",
      " [ 5.18077654e-02  8.51264784e-02]\n",
      " [ 5.44148539e-02  1.13166493e-01]\n",
      " [ 6.26032358e-02  1.12291578e-01]\n",
      " [ 6.58281013e-02  1.15026533e-01]\n",
      " [ 5.74631858e-02  1.07484815e-01]\n",
      " [ 6.38743254e-02  1.30866463e-01]\n",
      " [ 5.65149237e-02  1.12376478e-01]\n",
      " [ 6.45090918e-02  1.34978104e-01]\n",
      " [ 6.00419369e-02  1.21854779e-01]\n",
      " [ 9.50422391e-02 -4.11326398e-03]\n",
      " [ 8.94516138e-02 -7.66818721e-03]\n",
      " [ 9.51076111e-02 -1.87065550e-02]\n",
      " [ 7.58192461e-02 -2.59532167e-02]\n",
      " [ 8.91845985e-02 -2.23715412e-02]\n",
      " [ 8.20381882e-02 -2.73115299e-02]\n",
      " [ 9.03091628e-02 -1.61048038e-02]\n",
      " [ 6.72517650e-02  1.26006092e-03]\n",
      " [ 9.00134647e-02 -1.38232718e-02]\n",
      " [ 7.46957758e-02 -1.63848150e-02]\n",
      " [ 6.75193572e-02 -1.74332892e-02]\n",
      " [ 8.31419586e-02 -9.85482711e-03]\n",
      " [ 7.88118832e-02 -1.52266876e-02]\n",
      " [ 8.68093930e-02 -2.77481926e-02]\n",
      " [ 7.68400783e-02  1.00767816e-02]\n",
      " [ 9.06941347e-02 -2.15851353e-05]\n",
      " [ 8.23975875e-02 -2.66247878e-02]\n",
      " [ 7.97614708e-02 -7.02497949e-03]\n",
      " [ 8.39252666e-02 -4.16515405e-02]\n",
      " [ 7.65095933e-02 -1.03366139e-02]\n",
      " [ 8.76667106e-02 -3.34430418e-02]\n",
      " [ 8.24960756e-02 -9.61586108e-04]\n",
      " [ 8.80346931e-02 -4.67765227e-02]\n",
      " [ 8.60633510e-02 -2.69565882e-02]\n",
      " [ 8.68441800e-02 -5.05326495e-03]\n",
      " [ 8.95153150e-02 -4.69991309e-03]\n",
      " [ 9.24270302e-02 -2.36165904e-02]\n",
      " [ 9.40306212e-02 -3.28448113e-02]\n",
      " [ 8.51324237e-02 -2.33031619e-02]\n",
      " [ 7.53750063e-02  1.22366693e-02]\n",
      " [ 7.47961661e-02 -1.10249457e-02]\n",
      " [ 7.40865819e-02 -5.09997886e-03]\n",
      " [ 7.90422093e-02 -2.91492876e-03]\n",
      " [ 8.77228682e-02 -5.53347837e-02]\n",
      " [ 8.08321251e-02 -2.98247694e-02]\n",
      " [ 8.72878429e-02 -9.84644677e-03]\n",
      " [ 9.24729338e-02 -1.39265443e-02]\n",
      " [ 8.42195253e-02 -2.91132749e-02]\n",
      " [ 7.99092041e-02 -6.79486183e-03]\n",
      " [ 7.66114230e-02 -1.97965423e-02]\n",
      " [ 7.89709646e-02 -3.07432189e-02]\n",
      " [ 8.66708741e-02 -2.06798593e-02]\n",
      " [ 7.91807283e-02 -9.98326205e-03]\n",
      " [ 6.76384077e-02 -2.18285462e-04]\n",
      " [ 7.92555461e-02 -2.00198695e-02]\n",
      " [ 8.10515660e-02 -7.24989641e-03]\n",
      " [ 8.08304543e-02 -1.22632043e-02]\n",
      " [ 8.52787176e-02 -8.25324653e-03]\n",
      " [ 6.77844702e-02  1.75733973e-02]\n",
      " [ 7.98997583e-02 -1.13515454e-02]\n",
      " [ 9.88338505e-02 -8.53894903e-02]\n",
      " [ 8.66823361e-02 -6.43396776e-02]\n",
      " [ 1.02672920e-01 -7.00946964e-02]\n",
      " [ 9.38862295e-02 -6.81980592e-02]\n",
      " [ 9.76169023e-02 -7.76396157e-02]\n",
      " [ 1.10328828e-01 -9.00247153e-02]\n",
      " [ 7.52879803e-02 -5.70863507e-02]\n",
      " [ 1.05455794e-01 -8.01281242e-02]\n",
      " [ 9.65020152e-02 -8.20914370e-02]\n",
      " [ 1.07601304e-01 -6.57445578e-02]\n",
      " [ 9.43168735e-02 -3.96830270e-02]\n",
      " [ 9.24479381e-02 -6.27197251e-02]\n",
      " [ 9.81862967e-02 -5.89346842e-02]\n",
      " [ 8.47477972e-02 -7.00413173e-02]\n",
      " [ 8.79533083e-02 -7.09361942e-02]\n",
      " [ 9.51282875e-02 -5.50679223e-02]\n",
      " [ 9.53131729e-02 -5.79297443e-02]\n",
      " [ 1.14989851e-01 -6.97229940e-02]\n",
      " [ 1.11480981e-01 -1.16578003e-01]\n",
      " [ 8.50328416e-02 -6.48015027e-02]\n",
      " [ 1.01180373e-01 -6.30279529e-02]\n",
      " [ 8.46187241e-02 -5.84163005e-02]\n",
      " [ 1.10679013e-01 -9.66364242e-02]\n",
      " [ 8.93518003e-02 -4.64247606e-02]\n",
      " [ 9.96610459e-02 -5.92796557e-02]\n",
      " [ 1.04257505e-01 -6.05231151e-02]\n",
      " [ 8.84305502e-02 -4.09564181e-02]\n",
      " [ 8.89746034e-02 -4.03897307e-02]\n",
      " [ 9.47978024e-02 -7.54813178e-02]\n",
      " [ 1.02046160e-01 -5.48298557e-02]\n",
      " [ 1.04948198e-01 -7.55614491e-02]\n",
      " [ 1.14601538e-01 -5.06830826e-02]\n",
      " [ 9.49727792e-02 -7.74162886e-02]\n",
      " [ 9.02921735e-02 -4.55215034e-02]\n",
      " [ 9.04325947e-02 -7.28931692e-02]\n",
      " [ 1.08788476e-01 -7.23446854e-02]\n",
      " [ 9.69165324e-02 -6.44161979e-02]\n",
      " [ 9.49265302e-02 -5.64513979e-02]\n",
      " [ 8.76572648e-02 -3.79997254e-02]\n",
      " [ 9.88305089e-02 -5.02663601e-02]\n",
      " [ 9.88591917e-02 -6.72512462e-02]\n",
      " [ 9.75766400e-02 -4.21663133e-02]\n",
      " [ 8.66823361e-02 -6.43396776e-02]\n",
      " [ 1.01466857e-01 -7.26079359e-02]\n",
      " [ 1.00360953e-01 -6.70195388e-02]\n",
      " [ 9.61496966e-02 -5.24346281e-02]\n",
      " [ 8.92692075e-02 -5.85064019e-02]\n",
      " [ 9.40593040e-02 -4.98296974e-02]\n",
      " [ 9.48896096e-02 -5.61012256e-02]\n",
      " [ 8.84783560e-02 -5.15697045e-02]] [95.95991387 17.76103366  3.46093093  1.88482631]\n",
      "[[ 0.75110816  0.38008617  0.51300886  0.16790754]\n",
      " [ 0.2841749   0.5467445  -0.70866455 -0.34367081]] [[-0.75110816 -0.38008617 -0.51300886 -0.16790754]\n",
      " [ 0.2841749   0.5467445  -0.70866455 -0.34367081]\n",
      " [ 0.50215472 -0.67524332 -0.05916621 -0.53701625]\n",
      " [ 0.32081425 -0.31725607 -0.48074507  0.75187165]] [[ 0.75110816  0.38008617  0.51300886  0.16790754]\n",
      " [ 0.2841749   0.5467445  -0.70866455 -0.34367081]]\n",
      "[95.95991387 17.76103366]\n"
     ]
    }
   ],
   "source": [
    "# Manual Computation of SVD\n",
    "\n",
    "Unp, Dnp, VTnp = np.linalg.svd(iris_ds.data)\n",
    "# svd using randomized svd\n",
    "from sklearn.utils.extmath import randomized_svd\n",
    "Urs, Sigmars, VTrs = randomized_svd(iris_ds.data , n_components=2 , n_iter=7 , random_state = None)\n",
    "\n",
    "print(Urs, Dnp)\n",
    "print(vt , VTnp, VTrs)\n",
    "print(Sigmars)"
   ]
  },
  {
   "cell_type": "code",
   "execution_count": null,
   "metadata": {},
   "outputs": [],
   "source": []
  },
  {
   "cell_type": "code",
   "execution_count": null,
   "metadata": {},
   "outputs": [],
   "source": []
  }
 ],
 "metadata": {
  "kernelspec": {
   "display_name": "Python 3",
   "language": "python",
   "name": "python3"
  },
  "language_info": {
   "codemirror_mode": {
    "name": "ipython",
    "version": 3
   },
   "file_extension": ".py",
   "mimetype": "text/x-python",
   "name": "python",
   "nbconvert_exporter": "python",
   "pygments_lexer": "ipython3",
   "version": "3.7.6"
  }
 },
 "nbformat": 4,
 "nbformat_minor": 4
}
